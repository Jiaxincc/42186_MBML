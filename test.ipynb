{
 "cells": [
  {
   "cell_type": "code",
   "execution_count": null,
   "metadata": {},
   "outputs": [],
   "source": [
    "import pandas as pd\n",
    "import matplotlib.pyplot as plt\n",
    "import seaborn as sns\n",
    "\n",
    "\n",
    "# Load the dataset to examine its contents\n",
    "file_path = './Data/Pollutants_Daily_Averages_with_AQI.csv'\n",
    "data = pd.read_csv(file_path)\n",
    "\n",
    "# Display the first few rows of the dataframe along with summary statistics\n",
    "data_info = data.info()\n",
    "data_head = data.head()\n",
    "data_description = data.describe()\n",
    "\n",
    "(data_info, data_head, data_description)\n"
   ]
  },
  {
   "cell_type": "code",
   "execution_count": null,
   "metadata": {},
   "outputs": [],
   "source": [
    "# Function to find outliers using IQR method\n",
    "def find_outliers(df, column):\n",
    "    Q1 = df[column].quantile(0.25)\n",
    "    Q3 = df[column].quantile(0.75)\n",
    "    IQR = Q3 - Q1\n",
    "    lower_bound = Q1 - 1.5 * IQR\n",
    "    upper_bound = Q3 + 1.5 * IQR\n",
    "    outliers = df[(df[column] < lower_bound) | (df[column] > upper_bound)]\n",
    "    return outliers\n",
    "\n",
    "# Identifying outliers for each pollutant\n",
    "outliers_dict = {}\n",
    "for pollutant in ['CO', 'NO2', 'NOX', 'O3', 'PM10', 'PM25', 'SO2']:\n",
    "    outliers_dict[pollutant] = find_outliers(data, pollutant)\n",
    "\n",
    "# Counting the number of outliers for each pollutant\n",
    "outliers_count = {pollutant: len(outliers_dict[pollutant]) for pollutant in outliers_dict}\n",
    "outliers_count\n"
   ]
  },
  {
   "cell_type": "code",
   "execution_count": null,
   "metadata": {},
   "outputs": [],
   "source": [
    "# Function to cap the outliers with the IQR method boundaries\n",
    "def cap_outliers(df, column):\n",
    "    Q1 = df[column].quantile(0.25)\n",
    "    Q3 = df[column].quantile(0.75)\n",
    "    IQR = Q3 - Q1\n",
    "    lower_bound = Q1 - 1.5 * IQR\n",
    "    upper_bound = Q3 + 1.5 * IQR\n",
    "    df[column] = df[column].clip(lower_bound, upper_bound)\n",
    "    return df\n",
    "\n",
    "# Capping the outliers for each pollutant\n",
    "for pollutant in ['CO', 'NO2', 'NOX', 'O3', 'PM10', 'PM25', 'SO2']:\n",
    "    data = cap_outliers(data, pollutant)\n",
    "\n",
    "# Now we'll normalize the data using Min-Max scaling to the [0, 1] range.\n",
    "from sklearn.preprocessing import MinMaxScaler\n",
    "\n",
    "# Selecting the columns to be scaled\n",
    "pollutants = ['CO', 'NO2', 'NOX', 'O3', 'PM10', 'PM25', 'SO2']\n",
    "\n",
    "# Initializing the MinMaxScaler\n",
    "scaler = MinMaxScaler()\n",
    "\n",
    "# Fitting the scaler to the data and transforming it\n",
    "data[pollutants] = scaler.fit_transform(data[pollutants])\n",
    "\n",
    "# Checking the data after capping and normalization\n",
    "data_describe_after_processing = data.describe()\n",
    "data_head_after_processing = data.head()\n",
    "\n",
    "(data_describe_after_processing, data_head_after_processing)\n"
   ]
  },
  {
   "cell_type": "code",
   "execution_count": null,
   "metadata": {},
   "outputs": [],
   "source": [
    "# Set style for seaborn\n",
    "sns.set_theme(style=\"whitegrid\")\n",
    "\n",
    "# Function to plot histograms and kernel density plots for each pollutant\n",
    "def plot_histograms(data, pollutants):\n",
    "    fig, axes = plt.subplots(nrows=4, ncols=2, figsize=(14, 16))\n",
    "    axes = axes.flatten()\n",
    "    for i, pollutant in enumerate(pollutants):\n",
    "        sns.histplot(data[pollutant], kde=True, ax=axes[i], color='skyblue')\n",
    "        axes[i].set_title(f'Distribution of {pollutant}')\n",
    "        axes[i].set_xlabel('Normalized Value')\n",
    "        axes[i].set_ylabel('Frequency')\n",
    "    plt.tight_layout()\n",
    "    plt.show()\n",
    "\n",
    "# Plot histograms and kernel density plots for each pollutant\n",
    "plot_histograms(data, pollutants)\n",
    "\n",
    "# Calculate summary statistics for each pollutant\n",
    "summary_statistics = data.describe()\n",
    "summary_statistics\n"
   ]
  },
  {
   "cell_type": "code",
   "execution_count": null,
   "metadata": {},
   "outputs": [],
   "source": [
    "# Make sure 'DATE' column is in datetime format and set as index\n",
    "data['DATE'] = pd.to_datetime(data['DATE'])\n",
    "data.set_index('DATE', inplace=True)\n",
    "# plot monthly trends\n",
    "monthly_data = data.resample('M').mean()\n",
    "\n",
    "numerical_columns = ['CO', 'NO2', 'NOX', 'O3', 'PM10', 'PM25', 'SO2', 'AQI']\n",
    "\n",
    "fig, axes = plt.subplots(len(numerical_columns), 1, figsize=(15, 20), sharex=True)\n",
    "\n",
    "for i, col in enumerate(numerical_columns):\n",
    "    sns.lineplot(ax=axes[i], x=monthly_data.index, y=monthly_data[col])\n",
    "    axes[i].set_title(f'Monthly Time Series of {col}', fontsize=14)\n",
    "    axes[i].set_ylabel('Concentration')\n",
    "\n",
    "\n",
    "plt.xlabel('Date')\n",
    "plt.tight_layout()\n",
    "plt.show()\n"
   ]
  }
 ],
 "metadata": {
  "kernelspec": {
   "display_name": "thesis",
   "language": "python",
   "name": "python3"
  },
  "language_info": {
   "codemirror_mode": {
    "name": "ipython",
    "version": 3
   },
   "file_extension": ".py",
   "mimetype": "text/x-python",
   "name": "python",
   "nbconvert_exporter": "python",
   "pygments_lexer": "ipython3",
   "version": "3.11.8"
  }
 },
 "nbformat": 4,
 "nbformat_minor": 2
}
