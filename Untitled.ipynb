{
 "cells": [
  {
   "cell_type": "code",
   "execution_count": 1,
   "id": "6df0989f-ea68-418a-9ba6-aa6c0b2c11ec",
   "metadata": {
    "tags": []
   },
   "outputs": [
    {
     "name": "stdout",
     "output_type": "stream",
     "text": [
      "E:\\anaconda3\\envs\\thesis;E:\\anaconda3\\envs\\thesis\\Library\\mingw-w64\\bin;E:\\anaconda3\\envs\\thesis\\Library\\usr\\bin;E:\\anaconda3\\envs\\thesis\\Library\\bin;E:\\anaconda3\\envs\\thesis\\Scripts;E:\\anaconda3\\envs\\thesis\\bin;E:\\anaconda3\\condabin;C:\\gurobi1003\\win64\\bin;D:\\Gurobi\\win64\\bin;E:\\cuda\\Development\\bin;E:\\cuda\\Development\\libnvvp;C:\\Program Files\\NVIDIA GPU Computing Toolkit\\CUDA\\v11.7\\bin;C:\\Program Files\\NVIDIA GPU Computing Toolkit\\CUDA\\v11.7\\libnvvp;C:\\Windows\\system32;C:\\Windows;C:\\Windows\\System32\\Wbem;C:\\Windows\\System32\\WindowsPowerShell\\v1.0;C:\\Windows\\System32\\OpenSSH;E:\\Bandizip;D:\\Matlab\\runtime\\win64;D:\\Matlab\\bin;C:\\Program Files\\NVIDIA Corporation\\NVIDIA NvDLISR;C:\\Program Files (x86)\\NVIDIA Corporation\\PhysX\\Common;E:\\anaconda3;E:\\anaconda3\\Scripts;E:\\anaconda3\\Library\\mingw-w64\\bin;E:\\anaconda3\\Library\\usr\\bin;E:\\anaconda3\\Library\\bin;E:\\Git\\cmd;C:\\Program Files\\Docker\\Docker\\resources\\bin;C:\\WINDOWS\\system32;C:\\WINDOWS;C:\\WINDOWS\\System32\\Wbem;C:\\WINDOWS\\System32\\WindowsPowerShell\\v1.0;C:\\WINDOWS\\System32\\OpenSSH;C:\\Program Files\\Git\\cmd;C:\\Program Files\\NVIDIA Corporation\\Nsight Compute 2022.4.1;D:\\CMake\\bin;C:\\Program Files\\dotnet;D:\\Pamdoc;E:\\anaconda3;E:\\anaconda3\\Library\\mingw-w64\\bin;E:\\anaconda3\\Library\\usr\\bin;E:\\anaconda3\\Library\\bin;E:\\anaconda3\\Scripts;C:\\Users\\lcc04\\AppData\\Local\\Microsoft\\WindowsApps;E:\\CLion 2022.3\\bin;.;E:\\Google\\Cloud SDK\\google-cloud-sdk\\bin;E:\\anaconda3\\envs\\DeepLearning\\Library\\mingw-w64\\bin;E:\\cuda\\Development\\bin;E:\\cuda\\Development\\lib;E:\\cuda\\Development\\include;E:\\Microsoft VS Code\\bin;C:\\Users\\lcc04\\AppData\\Local\\Programs\\Julia-1.6.6\\bin\n"
     ]
    }
   ],
   "source": [
    "import os\n",
    "print(os.environ['PATH'])\n"
   ]
  }
 ],
 "metadata": {
  "kernelspec": {
   "display_name": "Python 3 (ipykernel)",
   "language": "python",
   "name": "python3"
  },
  "language_info": {
   "codemirror_mode": {
    "name": "ipython",
    "version": 3
   },
   "file_extension": ".py",
   "mimetype": "text/x-python",
   "name": "python",
   "nbconvert_exporter": "python",
   "pygments_lexer": "ipython3",
   "version": "3.11.8"
  }
 },
 "nbformat": 4,
 "nbformat_minor": 5
}
